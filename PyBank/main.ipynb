{
 "cells": [
  {
   "cell_type": "code",
   "execution_count": 2,
   "id": "0f576474",
   "metadata": {},
   "outputs": [],
   "source": [
    "# Import libraries\n",
    "import csv\n",
    "from pathlib import Path\n",
    "\n",
    "#Set file paths for menu_data.csv and sales_data.csv\n",
    "budget_filepath = Path('./Resources/budget_data_2.csv')"
   ]
  },
  {
   "cell_type": "code",
   "execution_count": 3,
   "id": "d4c6a2ee",
   "metadata": {},
   "outputs": [],
   "source": [
    "# define inital variables\n",
    "total_months = 0\n",
    "net_total_revenue = 0 \n",
    "\n",
    "prev_month_revenue = 0\n",
    "cur_month_revenue_change = 0\n",
    "monthly_revenue_change_arr = []\n",
    "month_of_revenue_change_arr = []\n",
    "\n"
   ]
  },
  {
   "cell_type": "code",
   "execution_count": 4,
   "id": "b1e0427a",
   "metadata": {},
   "outputs": [],
   "source": [
    "# Open the file in \"read\" mode ('r') and store the contents in the variable \"csvfile\"\n",
    "with open(budget_filepath, 'r') as csvfile:\n",
    "    reader = csv.reader(csvfile)\n",
    "    header = next(reader)\n",
    "\n",
    "# loop thru the csv file and make calculation needed and store it in various variables \n",
    "    for row in reader:\n",
    "        #Add 1 for the total number of months \n",
    "        total_months += 1\n",
    "        \n",
    "        #adding profits/losses to net total variable.\n",
    "        net_total_revenue = net_total_revenue + int(row[1])\n",
    "        \n",
    "        # gathering the info needed to calculate average changes, max and min profits over a period\n",
    "        cur_month_revenue_change = float(row[1]) - prev_month_revenue\n",
    "        prev_month_revenue = float(row[1])\n",
    "        monthly_revenue_change_arr.append(cur_month_revenue_change)\n",
    "        month_of_revenue_change_arr.append(row[0])\n",
    "        "
   ]
  },
  {
   "cell_type": "code",
   "execution_count": 5,
   "id": "9ed07363",
   "metadata": {},
   "outputs": [
    {
     "data": {
      "text/plain": [
       "'Jan-10'"
      ]
     },
     "execution_count": 5,
     "metadata": {},
     "output_type": "execute_result"
    }
   ],
   "source": [
    "#Remove the first elements in monthly_revenue_change_arr because the first month is a change of 0\n",
    "monthly_revenue_change_arr.pop(0)\n",
    "month_of_revenue_change_arr.pop(0)"
   ]
  },
  {
   "cell_type": "code",
   "execution_count": 6,
   "id": "d105d205",
   "metadata": {},
   "outputs": [],
   "source": [
    "#Grab the index and revenue of the greatest increase in profits. The index will be used to get the month\n",
    "max_revenue_index = monthly_revenue_change_arr.index(max(monthly_revenue_change_arr))\n",
    "max_revenue = max(monthly_revenue_change_arr)\n",
    "\n",
    "#month of max revenue\n",
    "max_revenue_month = month_of_revenue_change_arr[max_revenue_index]\n"
   ]
  },
  {
   "cell_type": "code",
   "execution_count": 7,
   "id": "834421b9",
   "metadata": {},
   "outputs": [],
   "source": [
    "#Grab the index and revenue of the greatest decrease in losses. The index will be used to get the month\n",
    "min_revenue_index = monthly_revenue_change_arr.index(min(monthly_revenue_change_arr))\n",
    "min_revenue = min(monthly_revenue_change_arr)\n",
    "\n",
    "#month of max revenue\n",
    "min_revenue_month = month_of_revenue_change_arr[min_revenue_index]"
   ]
  },
  {
   "cell_type": "code",
   "execution_count": 8,
   "id": "5f0bd4a8",
   "metadata": {},
   "outputs": [],
   "source": [
    "#calculate average and round to two decimal places\n",
    "monthly_revenue_avg = round(sum(monthly_revenue_change_arr)/len(monthly_revenue_change_arr),2)"
   ]
  },
  {
   "cell_type": "code",
   "execution_count": 9,
   "id": "2e6f76e1",
   "metadata": {},
   "outputs": [
    {
     "name": "stdout",
     "output_type": "stream",
     "text": [
      "Financial Analysis\n",
      "------------------\n",
      "Total Months: 86\n",
      "Total: $38382578\n",
      "Average Monthly Change: $-2315.12\n",
      "Greatest Increase in Profits: Feb-12 ($1926159)\n",
      "Greatest Decrease in Profits: Sep-13 ($-2196167)\n"
     ]
    }
   ],
   "source": [
    "# print to terminal\n",
    "print(f'Financial Analysis')\n",
    "print(f'------------------')\n",
    "print(f'Total Months: {total_months}')\n",
    "print(f'Total: ${net_total_revenue}')\n",
    "print(f'Average Monthly Change: ${monthly_revenue_avg}')\n",
    "print(f'Greatest Increase in Profits: {max_revenue_month} (${int(max_revenue)})')\n",
    "print(f'Greatest Decrease in Profits: {min_revenue_month} (${int(min_revenue)})')\n"
   ]
  },
  {
   "cell_type": "code",
   "execution_count": 10,
   "id": "8a55fcff",
   "metadata": {},
   "outputs": [],
   "source": [
    "# output analysis summary to file\n",
    "summary = open(\"Summary_Financial_Analysis.txt\", 'w')\n",
    "summary.write(f'''Financial Analysis\n",
    "------------------\n",
    "Total Months: {total_months}\n",
    "Total: ${net_total_revenue}\n",
    "Average Monthly Change: ${monthly_revenue_avg}\n",
    "Greatest Increase in Profits: {max_revenue_month} $({int(max_revenue)})')\n",
    "Greatest Decrease in Profits: {min_revenue_month} $({int(min_revenue)}'))''')\n",
    "\n",
    "summary.close()\n"
   ]
  },
  {
   "cell_type": "code",
   "execution_count": null,
   "id": "bb47e8c6",
   "metadata": {},
   "outputs": [],
   "source": []
  }
 ],
 "metadata": {
  "kernelspec": {
   "display_name": "python3_data",
   "language": "python",
   "name": "python3_data"
  },
  "language_info": {
   "codemirror_mode": {
    "name": "ipython",
    "version": 3
   },
   "file_extension": ".py",
   "mimetype": "text/x-python",
   "name": "python",
   "nbconvert_exporter": "python",
   "pygments_lexer": "ipython3",
   "version": "3.9.7"
  }
 },
 "nbformat": 4,
 "nbformat_minor": 5
}
