{
 "cells": [
  {
   "cell_type": "code",
   "execution_count": 16,
   "id": "0f576474",
   "metadata": {},
   "outputs": [],
   "source": [
    "# Import libraries\n",
    "import csv\n",
    "from pathlib import Path\n",
    "\n",
    "# @TODO: Set file paths for menu_data.csv and sales_data.csv\n",
    "budget_filepath = Path('./Resources/budget_data.csv')"
   ]
  },
  {
   "cell_type": "code",
   "execution_count": 17,
   "id": "d4c6a2ee",
   "metadata": {},
   "outputs": [],
   "source": [
    "# define inital variables\n",
    "total_months = []\n",
    "total_amount = []\n",
    "monthly_change_profit = []\n",
    "\n",
    "monthly_change = 0\n",
    "monthly_change_total = 0\n",
    "initial_profit_counter = 0"
   ]
  },
  {
   "cell_type": "code",
   "execution_count": 18,
   "id": "8513a572",
   "metadata": {},
   "outputs": [],
   "source": [
    "# Open the file in \"read\" mode ('r') and store the contents in the variable \"csvfile\"\n",
    "with open(budget_filepath, 'r') as csvfile:\n",
    "    reader = csv.reader(csvfile)\n",
    "    header = next(reader)\n",
    "\n",
    "# loop thru the csv file and make calculation needed and store it in various variables \n",
    "    for row in reader:\n",
    "        total_months.append(row[0])\n",
    "        sum_months = len(total_months)\n",
    "        total_amount.append(float(row[1]))\n",
    "        profit_for_month = int(row[1])\n",
    "        monthly_change = float(profit_for_month)\n",
    "        monthly_change_total = monthly_change_total + monthly_change\n",
    "        initial_profit_counter = int(row[1])\n",
    "        monthly_change_profit.append(monthly_change)\n",
    "        max_profit = max(monthly_change_profit)\n",
    "        max_index = monthly_change_profit.index(max_profit)\n",
    "        min_profit = min(monthly_change_profit)\n",
    "        min_index = monthly_change_profit.index(min_profit)\n",
    "        avg_change_profit = round(monthly_change_total/sum_months)\n",
    "        sum_amount = sum(total_amount)\n",
    "\n"
   ]
  },
  {
   "cell_type": "code",
   "execution_count": 19,
   "id": "2e6f76e1",
   "metadata": {},
   "outputs": [
    {
     "name": "stdout",
     "output_type": "stream",
     "text": [
      "Financial Analysis\n",
      "------------------\n",
      "Total Months: 86\n",
      "Total Amount: $38356388.0\n",
      "Average Monthly Change: $38356388.0\n",
      "Greatest Increase in Profits: Feb-2012 $1170593.0\n",
      "Greatest Decrease in Profits: Sep-2013 $-1196225.0\n"
     ]
    }
   ],
   "source": [
    "# print to terminal\n",
    "print(f'Financial Analysis')\n",
    "print(f'------------------')\n",
    "print(f'Total Months: {sum_months}')\n",
    "print(f'Total Amount: ${sum_amount}')\n",
    "print(f'Average Monthly Change: ${sum_amount}')\n",
    "print(f'Greatest Increase in Profits: {total_months[max_index]} ${max_profit}')\n",
    "print(f'Greatest Decrease in Profits: {total_months[min_index]} ${min_profit}')\n"
   ]
  },
  {
   "cell_type": "code",
   "execution_count": 21,
   "id": "8a55fcff",
   "metadata": {},
   "outputs": [],
   "source": [
    "# output analysis summary to file\n",
    "summary = open(\"Summary_Financial_Analysis.txt\", 'w')\n",
    "summary.write(f'''Financial Analysis\n",
    "------------------\n",
    "Total Months: {sum_months}\n",
    "Total: ${sum_amount}\n",
    "Average Monthly Change: ${avg_change_profit}\n",
    "Greatest Increase in Profits: {total_months[max_index]} (${max_profit})\n",
    "Greatest Decrease in Profits: {total_months[min_index]} (${min_profit})''')\n",
    "\n",
    "summary.close()\n"
   ]
  },
  {
   "cell_type": "code",
   "execution_count": null,
   "id": "bb47e8c6",
   "metadata": {},
   "outputs": [],
   "source": []
  }
 ],
 "metadata": {
  "kernelspec": {
   "display_name": "python3_data",
   "language": "python",
   "name": "python3_data"
  },
  "language_info": {
   "codemirror_mode": {
    "name": "ipython",
    "version": 3
   },
   "file_extension": ".py",
   "mimetype": "text/x-python",
   "name": "python",
   "nbconvert_exporter": "python",
   "pygments_lexer": "ipython3",
   "version": "3.9.7"
  }
 },
 "nbformat": 4,
 "nbformat_minor": 5
}
