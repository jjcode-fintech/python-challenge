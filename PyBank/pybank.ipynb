{
 "cells": [
  {
   "cell_type": "code",
   "execution_count": 1,
   "id": "0f576474",
   "metadata": {},
   "outputs": [],
   "source": [
    "# Import libraries\n",
    "import csv\n",
    "from pathlib import Path\n",
    "\n",
    "# @TODO: Set file paths for menu_data.csv and sales_data.csv\n",
    "budget_filepath = Path('./Resources/budget_data.csv')"
   ]
  },
  {
   "cell_type": "code",
   "execution_count": null,
   "id": "0c74a869",
   "metadata": {},
   "outputs": [],
   "source": [
    "# Initialize list objects to hold budget data\n",
    "budget = []\n",
    "\n",
    "# Initialize row count variable\n",
    "row_count = 0"
   ]
  },
  {
   "cell_type": "code",
   "execution_count": null,
   "id": "69b0ea13",
   "metadata": {},
   "outputs": [],
   "source": [
    "# @TODO: Read in the menu data into the menu list\n",
    "with open(budget_filepath, 'r') as csvfile:\n",
    "    # Pass in the csv file to the csv.reader() function and (with ',' as the delmiter/separator) and return the csvreader object\n",
    "    csvreader = csv.reader(csvfile, delimiter=',')\n",
    "\n",
    "    # Go to the next row from the start of the file (which is often the first row/header) and iterate row_count by 1\n",
    "    header = next(csvreader)\n",
    "    row_count += 1\n",
    "\n",
    "    # Read each row of data after the header\n",
    "    for row in csvreader:\n",
    "        # Create an object to hold each row of data\n",
    "        budget_obj = {\n",
    "            \"Date\": row[0],\n",
    "            \"Profit_Losses\": int(row[1])\n",
    "        }\n",
    "        # Append the menu object value to the list of menu array \n",
    "        budget.append(budget_obj)\n",
    "\n"
   ]
  },
  {
   "cell_type": "code",
   "execution_count": null,
   "id": "0b78a1f2",
   "metadata": {},
   "outputs": [],
   "source": [
    "print(budget)"
   ]
  },
  {
   "cell_type": "code",
   "execution_count": null,
   "id": "df49b42e",
   "metadata": {},
   "outputs": [],
   "source": [
    "total_months = len(budget)"
   ]
  },
  {
   "cell_type": "code",
   "execution_count": null,
   "id": "74e1c8d6",
   "metadata": {},
   "outputs": [],
   "source": [
    "total_profits = sum(budget.)\n",
    "total_profits"
   ]
  },
  {
   "cell_type": "code",
   "execution_count": null,
   "id": "9c2d4998",
   "metadata": {},
   "outputs": [],
   "source": [
    "budget[].Profit_Losses"
   ]
  },
  {
   "cell_type": "code",
   "execution_count": null,
   "id": "6ae49f03",
   "metadata": {},
   "outputs": [],
   "source": [
    "list(budget.{}.keys())"
   ]
  },
  {
   "cell_type": "code",
   "execution_count": null,
   "id": "a2f909d5",
   "metadata": {},
   "outputs": [],
   "source": [
    "profit_1 = 0\n",
    "total = [profit_1 + element['Profit_Losses'] for element in budget]\n",
    "total"
   ]
  },
  {
   "cell_type": "code",
   "execution_count": null,
   "id": "f78cb986",
   "metadata": {},
   "outputs": [],
   "source": [
    "def profit_total():\n",
    "    profit = 0 \n",
    "    for profit_item in budget:\n",
    "        profit += profit_item['Profit_Losses'] \n",
    "    return profit\n",
    "\n",
    "print(profit_total())\n"
   ]
  },
  {
   "cell_type": "code",
   "execution_count": null,
   "id": "0b9b396a",
   "metadata": {},
   "outputs": [],
   "source": [
    "profit_total()"
   ]
  },
  {
   "cell_type": "code",
   "execution_count": 5,
   "id": "718827cf",
   "metadata": {},
   "outputs": [],
   "source": [
    "# define variables\n",
    "total_months = []\n",
    "total_amount = []\n",
    "monthly_change_profit = []\n",
    "\n",
    "monthly_change = 0\n",
    "monthly_change_total = 0\n",
    "initial_profit_counter = 0"
   ]
  },
  {
   "cell_type": "code",
   "execution_count": 6,
   "id": "16bc5c92",
   "metadata": {},
   "outputs": [],
   "source": [
    "# open files to use\n",
    "with open(budget_filepath, 'r') as csvfile:\n",
    "    reader = csv.reader(csvfile)\n",
    "    header = next(reader)\n",
    "\n",
    "# for loop\n",
    "    for row in reader:\n",
    "        total_months.append(row[0])\n",
    "        sum_months = len(total_months)\n",
    "        total_amount.append(float(row[1]))\n",
    "        profit_for_month = int(row[1])\n",
    "        monthly_change = float(profit_for_month)\n",
    "        monthly_change_total = monthly_change_total + monthly_change\n",
    "        initial_profit_counter = int(row[1])\n",
    "        monthly_change_profit.append(monthly_change)\n",
    "        max_profit = max(monthly_change_profit)\n",
    "        max_index = monthly_change_profit.index(max_profit)\n",
    "        min_profit = min(monthly_change_profit)\n",
    "        min_index = monthly_change_profit.index(min_profit)\n",
    "        avg_change_profit = round(monthly_change_total/sum_months)\n",
    "        sum_amount = sum(total_amount)\n",
    "\n"
   ]
  },
  {
   "cell_type": "code",
   "execution_count": 7,
   "id": "b874d9b7",
   "metadata": {},
   "outputs": [
    {
     "name": "stdout",
     "output_type": "stream",
     "text": [
      "Financial Analysis\n",
      "------------------\n",
      "Total Months: 86\n",
      "Total Amount: $38382578.0\n",
      "Average Monthly Change: $38382578.0\n",
      "Greatest Increase in Profits: Feb-2012 $1170593.0\n",
      "Greatest Decrease in Profits: Sep-2013 $-1196225.0\n"
     ]
    }
   ],
   "source": [
    "# print to terminal\n",
    "print(f'Financial Analysis')\n",
    "print(f'------------------')\n",
    "print(f'Total Months: {sum_months}')\n",
    "print(f'Total Amount: ${sum_amount}')\n",
    "print(f'Average Monthly Change: ${sum_amount}')\n",
    "print(f'Greatest Increase in Profits: {total_months[max_index]} ${max_profit}')\n",
    "print(f'Greatest Decrease in Profits: {total_months[min_index]} ${min_profit}')\n"
   ]
  },
  {
   "cell_type": "code",
   "execution_count": 14,
   "id": "b158acff",
   "metadata": {},
   "outputs": [],
   "source": [
    "# output to file\n",
    "summary = open(\"Summary_Financial_Analysis.txt\", 'w')\n",
    "summary.write(f'''Financial Analysis\n",
    "------------------\n",
    "Total Months: {sum_months}\n",
    "Total: ${sum_amount}\n",
    "Average Monthly Change: ${avg_change_profit}\n",
    "Greatest Increase in Profits: {total_months[max_index]} (${max_profit})\n",
    "Greatest Decrease in Profits: {total_months[min_index]} (${min_profit})''')\n",
    "\n",
    "summary.close()\n"
   ]
  },
  {
   "cell_type": "code",
   "execution_count": null,
   "id": "38d51ad5",
   "metadata": {},
   "outputs": [],
   "source": []
  }
 ],
 "metadata": {
  "kernelspec": {
   "display_name": "python3_data",
   "language": "python",
   "name": "python3_data"
  },
  "language_info": {
   "codemirror_mode": {
    "name": "ipython",
    "version": 3
   },
   "file_extension": ".py",
   "mimetype": "text/x-python",
   "name": "python",
   "nbconvert_exporter": "python",
   "pygments_lexer": "ipython3",
   "version": "3.9.7"
  }
 },
 "nbformat": 4,
 "nbformat_minor": 5
}
